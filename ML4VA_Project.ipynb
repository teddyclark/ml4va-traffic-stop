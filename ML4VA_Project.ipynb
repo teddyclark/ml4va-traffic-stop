{
  "nbformat": 4,
  "nbformat_minor": 0,
  "metadata": {
    "colab": {
      "name": "ML4VA Project",
      "provenance": [],
      "collapsed_sections": [],
      "toc_visible": true,
      "include_colab_link": true
    },
    "kernelspec": {
      "name": "python3",
      "display_name": "Python 3"
    }
  },
  "cells": [
    {
      "cell_type": "markdown",
      "metadata": {
        "id": "view-in-github",
        "colab_type": "text"
      },
      "source": [
        "<a href=\"https://colab.research.google.com/github/teddyclark/ml4va-traffic-stop/blob/main/ML4VA_Project.ipynb\" target=\"_parent\"><img src=\"https://colab.research.google.com/assets/colab-badge.svg\" alt=\"Open In Colab\"/></a>"
      ]
    },
    {
      "cell_type": "markdown",
      "metadata": {
        "id": "aBe4IufYRKBA"
      },
      "source": [
        "##**ML4VA Project**\n",
        "CS4774\n",
        "\n",
        "Teddy Clark (ejc7re)\n",
        "Srikar Kosuri (sk8nr)\n",
        "Alex Snow (ats5cn)"
      ]
    },
    {
      "cell_type": "code",
      "metadata": {
        "id": "-dFR6BzxP_v0"
      },
      "source": [
        "from pandas.plotting import scatter_matrix # optional\n",
        "from sklearn.impute import SimpleImputer\n",
        "from sklearn.preprocessing import LabelEncoder\n",
        "from sklearn.preprocessing import OneHotEncoder\n",
        "from sklearn.pipeline import Pipeline\n",
        "from sklearn.preprocessing import StandardScaler\n",
        "from sklearn.linear_model import LogisticRegression\n",
        "\n",
        "import numpy as np\n",
        "import pandas as pd\n",
        "import os\n",
        "\n",
        "np.random.seed(42)\n",
        "\n",
        "# The dataset is pretty massive and takes like 10 minutes to upload to the runtime\n",
        "# (accessible in the shared drive folder)\n",
        "# Maybe we get most recent million rows? Or 500K? Currently there are 5M\n",
        "def load_data():\n",
        "    csv_path = os.path.join(\".\", \"VA-edited.csv\")\n",
        "    return pd.read_csv(csv_path)"
      ],
      "execution_count": null,
      "outputs": []
    },
    {
      "cell_type": "code",
      "metadata": {
        "id": "ebeEymaTxJfv",
        "outputId": "b1e77d5b-c1ed-440b-abee-e61c23b39853",
        "colab": {
          "base_uri": "https://localhost:8080/",
          "height": 476
        }
      },
      "source": [
        "stops = load_data()\n",
        "print(stops.info())\n",
        "print(stops.describe())\n",
        "print(np.shape(stops))"
      ],
      "execution_count": null,
      "outputs": [
        {
          "output_type": "stream",
          "text": [
            "<class 'pandas.core.frame.DataFrame'>\n",
            "RangeIndex: 223978 entries, 0 to 223977\n",
            "Data columns (total 9 columns):\n",
            " #   Column            Non-Null Count   Dtype \n",
            "---  ------            --------------   ----- \n",
            " 0   stop_date         223978 non-null  object\n",
            " 1   county_name       223978 non-null  object\n",
            " 2   county_fips       223978 non-null  int64 \n",
            " 3   driver_race_raw   216173 non-null  object\n",
            " 4   driver_race       216173 non-null  object\n",
            " 5   search_conducted  223978 non-null  bool  \n",
            " 6   contraband_found  217432 non-null  object\n",
            " 7   officer_id        223978 non-null  int64 \n",
            " 8   officer_race      223972 non-null  object\n",
            "dtypes: bool(1), int64(2), object(6)\n",
            "memory usage: 13.9+ MB\n",
            "None\n",
            "         county_fips     officer_id\n",
            "count  223978.000000  223978.000000\n",
            "mean    51184.710570    7116.599086\n",
            "std       225.374649    1290.248463\n",
            "min     51001.000000    1617.000000\n",
            "25%     51059.000000    6455.000000\n",
            "50%     51107.000000    7465.000000\n",
            "75%     51173.000000    8141.000000\n",
            "max     51840.000000    8938.000000\n",
            "(223978, 9)\n"
          ],
          "name": "stdout"
        }
      ]
    },
    {
      "cell_type": "code",
      "metadata": {
        "id": "rKosVBL_1B_i"
      },
      "source": [
        "stops = stops.dropna(how='any', axis=0)"
      ],
      "execution_count": null,
      "outputs": []
    },
    {
      "cell_type": "markdown",
      "metadata": {
        "id": "E9_FLshFTj-z"
      },
      "source": [
        "Drop rows with NULL data. Since our data is primarily categorical, it doesn't make sense to use a method to estimate their value, so we simply neglect that row."
      ]
    },
    {
      "cell_type": "code",
      "metadata": {
        "id": "69hjsCNZS7Zg",
        "outputId": "54183c1e-498d-4541-9316-bdc23d98a41f",
        "colab": {
          "base_uri": "https://localhost:8080/",
          "height": 289
        }
      },
      "source": [
        "stops.info()"
      ],
      "execution_count": null,
      "outputs": [
        {
          "output_type": "stream",
          "text": [
            "<class 'pandas.core.frame.DataFrame'>\n",
            "Int64Index: 209659 entries, 0 to 223977\n",
            "Data columns (total 9 columns):\n",
            " #   Column            Non-Null Count   Dtype \n",
            "---  ------            --------------   ----- \n",
            " 0   stop_date         209659 non-null  object\n",
            " 1   county_name       209659 non-null  object\n",
            " 2   county_fips       209659 non-null  int64 \n",
            " 3   driver_race_raw   209659 non-null  object\n",
            " 4   driver_race       209659 non-null  object\n",
            " 5   search_conducted  209659 non-null  bool  \n",
            " 6   contraband_found  209659 non-null  object\n",
            " 7   officer_id        209659 non-null  int64 \n",
            " 8   officer_race      209659 non-null  object\n",
            "dtypes: bool(1), int64(2), object(6)\n",
            "memory usage: 14.6+ MB\n"
          ],
          "name": "stdout"
        }
      ]
    },
    {
      "cell_type": "code",
      "metadata": {
        "id": "NLnPgMJy_77D",
        "outputId": "597f91db-8136-42e2-85dd-6d0fcb6b9ee9",
        "colab": {
          "base_uri": "https://localhost:8080/",
          "height": 221
        }
      },
      "source": [
        "stops['stop_date'] = stops['stop_date'].str.split('/').str[0]\n",
        "stops['stop_date'].value_counts"
      ],
      "execution_count": null,
      "outputs": [
        {
          "output_type": "execute_result",
          "data": {
            "text/plain": [
              "<bound method IndexOpsMixin.value_counts of 0         4\n",
              "1         4\n",
              "2         4\n",
              "3         4\n",
              "4         4\n",
              "         ..\n",
              "223973    7\n",
              "223974    7\n",
              "223975    7\n",
              "223976    7\n",
              "223977    7\n",
              "Name: stop_date, Length: 209659, dtype: object>"
            ]
          },
          "metadata": {
            "tags": []
          },
          "execution_count": 5
        }
      ]
    },
    {
      "cell_type": "markdown",
      "metadata": {
        "id": "iwcjX_bn10sJ"
      },
      "source": [
        "A lot of columns for a dataset contains minimal data for rows, suggesting that a lot of data remains to be collected or was simply neglected. We could remove these columns?\n",
        "\n",
        "stop_time, fine_grained_location, police_department, driver_gender, driver_age, etc. are some of them."
      ]
    },
    {
      "cell_type": "markdown",
      "metadata": {
        "id": "zzxOognC2VpB"
      },
      "source": [
        "We still do have officer_race and driver_race, and if there was a search conducted. so we could potentially focus on that. We have date as well as county so we could do it with respect to time/location"
      ]
    },
    {
      "cell_type": "code",
      "metadata": {
        "id": "dvi-zzNcQbOh",
        "outputId": "555bc8a6-8ed0-4cbd-e20d-3db9306b1558",
        "colab": {
          "base_uri": "https://localhost:8080/",
          "height": 527
        }
      },
      "source": [
        "from sklearn.model_selection import train_test_split\n",
        "\n",
        "stops = stops[stops['county_name'] != \"Charlottesville city\"]\n",
        "stops['minority'] = stops['driver_race'].apply(lambda x: 'Colored' if x!='White' else 'White')  \n",
        "X = stops[[\"stop_date\", \"county_name\", \"officer_race\"]]\n",
        "y = stops[[\"minority\"]]\n",
        "\n",
        "X_train, X_test, y_train, y_test = train_test_split(X, y, test_size=0.2, random_state=42, stratify = stops[\"county_name\"])\n",
        "\n",
        "print(np.shape(X_train))\n",
        "print(np.shape(X_test))\n",
        "\n",
        "print(X_train)\n",
        "print(X_test)"
      ],
      "execution_count": null,
      "outputs": [
        {
          "output_type": "stream",
          "text": [
            "(167726, 3)\n",
            "(41932, 3)\n",
            "       stop_date           county_name officer_race\n",
            "175903        11       Stafford County        White\n",
            "11023          3      Dinwiddie County        White\n",
            "75066          8  Prince Edward County        White\n",
            "185550        10    Mecklenburg County        White\n",
            "45356         11      Charlotte County        White\n",
            "...          ...                   ...          ...\n",
            "78363          8      Botetourt County        White\n",
            "113092         5        Pulaski County        White\n",
            "99418          6        Fairfax County     Hispanic\n",
            "74498          8       Accomack County        White\n",
            "48171         11       New Kent County        White\n",
            "\n",
            "[167726 rows x 3 columns]\n",
            "       stop_date            county_name officer_race\n",
            "116642         5    Chesterfield County        White\n",
            "9220           3         Loudoun County        White\n",
            "4730           4          Louisa County        White\n",
            "63664          9    Westmoreland County        White\n",
            "137514         3           Bland County        White\n",
            "...          ...                    ...          ...\n",
            "100523         6       Alleghany County        White\n",
            "149561         1       Arlington County        Black\n",
            "79670          8           Suffolk city        Black\n",
            "135269         3      Montgomery County        White\n",
            "9310           3  Prince William County        White\n",
            "\n",
            "[41932 rows x 3 columns]\n"
          ],
          "name": "stdout"
        }
      ]
    },
    {
      "cell_type": "markdown",
      "metadata": {
        "id": "UKP0Vr14fTkD"
      },
      "source": [
        "Reformatting data for future use with log regressiona and nns"
      ]
    },
    {
      "cell_type": "code",
      "metadata": {
        "id": "003WdrGRPQd0",
        "outputId": "e6f967a4-1abc-479b-dfea-3aeb68935c0f",
        "colab": {
          "base_uri": "https://localhost:8080/",
          "height": 51
        }
      },
      "source": [
        "from sklearn.compose import ColumnTransformer\n",
        "\n",
        "categorical_pipeline = Pipeline([\n",
        "    ('one_hot', OneHotEncoder()),\n",
        "])\n",
        "\n",
        "print(np.shape(X_train))\n",
        "print(np.shape(X_test))\n",
        "X_train_prepared = categorical_pipeline.fit_transform(X_train)\n",
        "X_test_prepared = categorical_pipeline.fit_transform(X_test)"
      ],
      "execution_count": null,
      "outputs": [
        {
          "output_type": "stream",
          "text": [
            "(167726, 3)\n",
            "(41932, 3)\n"
          ],
          "name": "stdout"
        }
      ]
    },
    {
      "cell_type": "code",
      "metadata": {
        "id": "FhX5sMQdTu2e",
        "outputId": "caa29546-bb9d-4d02-d51a-041facc1d3db",
        "colab": {
          "base_uri": "https://localhost:8080/",
          "height": 85
        }
      },
      "source": [
        "print(np.shape(X_train_prepared))\n",
        "print(np.shape(X_test_prepared))\n",
        "print(np.shape(y_train))\n",
        "print(np.shape(y_test))"
      ],
      "execution_count": null,
      "outputs": [
        {
          "output_type": "stream",
          "text": [
            "(167726, 142)\n",
            "(41932, 138)\n",
            "(167726, 1)\n",
            "(41932, 1)\n"
          ],
          "name": "stdout"
        }
      ]
    },
    {
      "cell_type": "markdown",
      "metadata": {
        "id": "Ai-My2OPaOPp"
      },
      "source": [
        "The following is code used to reformat the data and run a k-means algorithm. The k-means uses the three categories \"county_name,\" \"driver_race,\" and \"officer_race,\" to see if there are any noteable patterns between counties and the races of the officers/offenders."
      ]
    },
    {
      "cell_type": "code",
      "metadata": {
        "id": "zueIqk6PPqYC"
      },
      "source": [
        "names = list(X['county_name'].value_counts(sort=True, ascending=False)[0:4].index)\n",
        "names.append('Albemarle County')"
      ],
      "execution_count": null,
      "outputs": []
    },
    {
      "cell_type": "code",
      "metadata": {
        "id": "EkGO7gh9YKCK",
        "outputId": "86a40b1b-11e8-42ce-d8d3-aa2e63e192f9",
        "colab": {
          "base_uri": "https://localhost:8080/",
          "height": 34
        }
      },
      "source": [
        "print(names)"
      ],
      "execution_count": null,
      "outputs": [
        {
          "output_type": "stream",
          "text": [
            "['Fairfax County', 'Prince William County', 'Arlington County', 'Henrico County', 'Albemarle County']\n"
          ],
          "name": "stdout"
        }
      ]
    },
    {
      "cell_type": "code",
      "metadata": {
        "id": "L0H72g1bQXkV",
        "outputId": "ec9230db-8d28-4534-d4a4-7ef0e6f0110f",
        "colab": {
          "base_uri": "https://localhost:8080/",
          "height": 34
        }
      },
      "source": [
        "X_cluster = X[X['county_name'].apply(lambda x: x in names)].drop(\"stop_date\", axis = 1)\n",
        "X_cluster['driver_race'] = stops['driver_race'][X['county_name'].apply(lambda x: x in names)]\n",
        "column_names = list(X_cluster['county_name'].unique())\n",
        "column_names.extend([name + ' officer' for name in list(X_cluster['officer_race'].unique())])\n",
        "column_names.extend([name + ' driver' for name in list(X_cluster['driver_race'].unique())])\n",
        "X_cluster_prepped = categorical_pipeline.fit_transform(X_cluster)\n",
        "X_cluster_prepped.shape"
      ],
      "execution_count": null,
      "outputs": [
        {
          "output_type": "execute_result",
          "data": {
            "text/plain": [
              "(44062, 15)"
            ]
          },
          "metadata": {
            "tags": []
          },
          "execution_count": 83
        }
      ]
    },
    {
      "cell_type": "code",
      "metadata": {
        "id": "oUS3T_xWVOhM",
        "outputId": "d5db8034-ed24-4c42-ea4b-6b50c37de12f",
        "colab": {
          "base_uri": "https://localhost:8080/",
          "height": 34
        }
      },
      "source": [
        "X_cluster.columns"
      ],
      "execution_count": null,
      "outputs": [
        {
          "output_type": "execute_result",
          "data": {
            "text/plain": [
              "Index(['county_name', 'officer_race', 'driver_race'], dtype='object')"
            ]
          },
          "metadata": {
            "tags": []
          },
          "execution_count": 84
        }
      ]
    },
    {
      "cell_type": "markdown",
      "metadata": {
        "id": "1wEpJwJRbOS3"
      },
      "source": [
        "The following is used to see if there is an optimal number of clusters for the k-means algo, by plotting the elbow curve for 2-12 clusters"
      ]
    },
    {
      "cell_type": "code",
      "metadata": {
        "id": "lluo50OWWB8v",
        "outputId": "24115edf-9876-4cf0-b12e-1dddc4173b9f",
        "colab": {
          "base_uri": "https://localhost:8080/",
          "height": 282
        }
      },
      "source": [
        "from sklearn.cluster import KMeans\n",
        "import matplotlib.pyplot as plt\n",
        "# Number of clusters\n",
        "inertia_list = []\n",
        "for i in range(2,13):\n",
        "  kmeans = KMeans(n_clusters=i, init='k-means++', max_iter=100, random_state=42).fit(X_cluster_prepped)\n",
        "  inertia_list.append(kmeans.inertia_)\n",
        "\n",
        "plt.plot([i for i in range(2,13)], inertia_list)"
      ],
      "execution_count": null,
      "outputs": [
        {
          "output_type": "execute_result",
          "data": {
            "text/plain": [
              "[<matplotlib.lines.Line2D at 0x7f7a49172080>]"
            ]
          },
          "metadata": {
            "tags": []
          },
          "execution_count": 73
        },
        {
          "output_type": "display_data",
          "data": {
            "image/png": "[encoded data removed]",
            "text/plain": [
              "<Figure size 432x288 with 1 Axes>"
            ]
          },
          "metadata": {
            "tags": [],
            "needs_background": "light"
          }
        }
      ]
    },
    {
      "cell_type": "markdown",
      "metadata": {
        "id": "MbmUrPQ4beeu"
      },
      "source": [
        "7 clusters seems to have a slight elbow, so we use if for our implementation"
      ]
    },
    {
      "cell_type": "code",
      "metadata": {
        "id": "sQKSz7eAYGZg"
      },
      "source": [
        "kmeans = KMeans(n_clusters=7, init='k-means++', max_iter=100, random_state=42).fit(X_cluster_prepped)"
      ],
      "execution_count": null,
      "outputs": []
    },
    {
      "cell_type": "code",
      "metadata": {
        "id": "6NhAHlo1Sc0V"
      },
      "source": [
        "interpret_df\n",
        "centroids = kmeans.cluster_centers_\n",
        "interpret_df = pd.DataFrame(centroids, columns=column_names)"
      ],
      "execution_count": null,
      "outputs": []
    },
    {
      "cell_type": "code",
      "metadata": {
        "id": "xK_IBUVAYOY4",
        "outputId": "3a99469a-cc46-4e45-f0ef-552bcbbcde29",
        "colab": {
          "base_uri": "https://localhost:8080/",
          "height": 300
        }
      },
      "source": [
        "interpret_df"
      ],
      "execution_count": null,
      "outputs": [
        {
          "output_type": "execute_result",
          "data": {
            "text/html": [
              "<div>\n",
              "<style scoped>\n",
              "    .dataframe tbody tr th:only-of-type {\n",
              "        vertical-align: middle;\n",
              "    }\n",
              "\n",
              "    .dataframe tbody tr th {\n",
              "        vertical-align: top;\n",
              "    }\n",
              "\n",
              "    .dataframe thead th {\n",
              "        text-align: right;\n",
              "    }\n",
              "</style>\n",
              "<table border=\"1\" class=\"dataframe\">\n",
              "  <thead>\n",
              "    <tr style=\"text-align: right;\">\n",
              "      <th></th>\n",
              "      <th>Prince William County</th>\n",
              "      <th>Fairfax County</th>\n",
              "      <th>Albemarle County</th>\n",
              "      <th>Henrico County</th>\n",
              "      <th>Arlington County</th>\n",
              "      <th>Hispanic officer</th>\n",
              "      <th>White officer</th>\n",
              "      <th>Black officer</th>\n",
              "      <th>Asian officer</th>\n",
              "      <th>Other officer</th>\n",
              "      <th>White driver</th>\n",
              "      <th>Black driver</th>\n",
              "      <th>Asian driver</th>\n",
              "      <th>Hispanic driver</th>\n",
              "      <th>Other driver</th>\n",
              "    </tr>\n",
              "  </thead>\n",
              "  <tbody>\n",
              "    <tr>\n",
              "      <th>0</th>\n",
              "      <td>0.000000</td>\n",
              "      <td>0.000000</td>\n",
              "      <td>1.000000</td>\n",
              "      <td>0.000000</td>\n",
              "      <td>0.000000</td>\n",
              "      <td>0.033321</td>\n",
              "      <td>0.000000</td>\n",
              "      <td>0.075489</td>\n",
              "      <td>0.016378</td>\n",
              "      <td>0.874812</td>\n",
              "      <td>0.192959</td>\n",
              "      <td>0.362011</td>\n",
              "      <td>0.289345</td>\n",
              "      <td>0.155685</td>\n",
              "      <td>0.000000</td>\n",
              "    </tr>\n",
              "    <tr>\n",
              "      <th>1</th>\n",
              "      <td>0.116283</td>\n",
              "      <td>0.000000</td>\n",
              "      <td>0.000000</td>\n",
              "      <td>0.883717</td>\n",
              "      <td>0.000000</td>\n",
              "      <td>0.000000</td>\n",
              "      <td>0.069736</td>\n",
              "      <td>0.101496</td>\n",
              "      <td>0.001680</td>\n",
              "      <td>0.827088</td>\n",
              "      <td>0.044530</td>\n",
              "      <td>0.294068</td>\n",
              "      <td>0.078642</td>\n",
              "      <td>0.057805</td>\n",
              "      <td>0.524954</td>\n",
              "    </tr>\n",
              "    <tr>\n",
              "      <th>2</th>\n",
              "      <td>0.001777</td>\n",
              "      <td>0.179650</td>\n",
              "      <td>0.215936</td>\n",
              "      <td>0.082642</td>\n",
              "      <td>0.519994</td>\n",
              "      <td>0.000000</td>\n",
              "      <td>0.998963</td>\n",
              "      <td>0.000148</td>\n",
              "      <td>0.000889</td>\n",
              "      <td>0.000000</td>\n",
              "      <td>0.105598</td>\n",
              "      <td>0.480746</td>\n",
              "      <td>0.162618</td>\n",
              "      <td>0.096712</td>\n",
              "      <td>0.154325</td>\n",
              "    </tr>\n",
              "    <tr>\n",
              "      <th>3</th>\n",
              "      <td>0.000000</td>\n",
              "      <td>0.000000</td>\n",
              "      <td>0.000000</td>\n",
              "      <td>0.000000</td>\n",
              "      <td>1.000000</td>\n",
              "      <td>0.078345</td>\n",
              "      <td>0.000000</td>\n",
              "      <td>0.074910</td>\n",
              "      <td>0.005725</td>\n",
              "      <td>0.841021</td>\n",
              "      <td>0.098953</td>\n",
              "      <td>0.296860</td>\n",
              "      <td>0.203467</td>\n",
              "      <td>0.061335</td>\n",
              "      <td>0.339385</td>\n",
              "    </tr>\n",
              "    <tr>\n",
              "      <th>4</th>\n",
              "      <td>0.000613</td>\n",
              "      <td>0.111134</td>\n",
              "      <td>0.888253</td>\n",
              "      <td>0.000000</td>\n",
              "      <td>0.000000</td>\n",
              "      <td>0.000000</td>\n",
              "      <td>1.000000</td>\n",
              "      <td>0.000000</td>\n",
              "      <td>0.000000</td>\n",
              "      <td>0.000000</td>\n",
              "      <td>0.161593</td>\n",
              "      <td>0.000000</td>\n",
              "      <td>0.235751</td>\n",
              "      <td>0.148110</td>\n",
              "      <td>0.454545</td>\n",
              "    </tr>\n",
              "    <tr>\n",
              "      <th>5</th>\n",
              "      <td>0.000000</td>\n",
              "      <td>0.000000</td>\n",
              "      <td>1.000000</td>\n",
              "      <td>0.000000</td>\n",
              "      <td>0.000000</td>\n",
              "      <td>0.027433</td>\n",
              "      <td>0.000000</td>\n",
              "      <td>0.068147</td>\n",
              "      <td>0.016547</td>\n",
              "      <td>0.887873</td>\n",
              "      <td>0.000000</td>\n",
              "      <td>0.000000</td>\n",
              "      <td>0.000000</td>\n",
              "      <td>0.000000</td>\n",
              "      <td>1.000000</td>\n",
              "    </tr>\n",
              "    <tr>\n",
              "      <th>6</th>\n",
              "      <td>0.159751</td>\n",
              "      <td>0.840249</td>\n",
              "      <td>0.000000</td>\n",
              "      <td>0.000000</td>\n",
              "      <td>0.000000</td>\n",
              "      <td>0.017339</td>\n",
              "      <td>0.000000</td>\n",
              "      <td>0.062147</td>\n",
              "      <td>0.001753</td>\n",
              "      <td>0.918761</td>\n",
              "      <td>0.134814</td>\n",
              "      <td>0.311709</td>\n",
              "      <td>0.196961</td>\n",
              "      <td>0.100526</td>\n",
              "      <td>0.255991</td>\n",
              "    </tr>\n",
              "  </tbody>\n",
              "</table>\n",
              "</div>"
            ],
            "text/plain": [
              "   Prince William County  Fairfax County  ...  Hispanic driver  Other driver\n",
              "0               0.000000        0.000000  ...         0.155685      0.000000\n",
              "1               0.116283        0.000000  ...         0.057805      0.524954\n",
              "2               0.001777        0.179650  ...         0.096712      0.154325\n",
              "3               0.000000        0.000000  ...         0.061335      0.339385\n",
              "4               0.000613        0.111134  ...         0.148110      0.454545\n",
              "5               0.000000        0.000000  ...         0.000000      1.000000\n",
              "6               0.159751        0.840249  ...         0.100526      0.255991\n",
              "\n",
              "[7 rows x 15 columns]"
            ]
          },
          "metadata": {
            "tags": []
          },
          "execution_count": 86
        }
      ]
    },
    {
      "cell_type": "markdown",
      "metadata": {
        "id": "XHzcT2Cubtg6"
      },
      "source": [
        "We then reformat the y values to be used in our nueral network implementation down the road."
      ]
    },
    {
      "cell_type": "code",
      "metadata": {
        "id": "OVSb7K7d6B3M"
      },
      "source": [
        "y_train_prepared, y_test_prepared = (np.where(y_set == 'Colored', 1, 0) for y_set in (y_train, y_test))"
      ],
      "execution_count": null,
      "outputs": []
    },
    {
      "cell_type": "markdown",
      "metadata": {
        "id": "64242AC0c9aE"
      },
      "source": [
        "There is a size mismatch after running OneHot for the classification models. Going to try a different method for managing categorical data"
      ]
    },
    {
      "cell_type": "code",
      "metadata": {
        "id": "WXsuObmHZcoz"
      },
      "source": [
        "train_objs_num = len(X_train)\n",
        "data = pd.concat(objs=[X_train, X_test], axis=0)\n",
        "data = pd.get_dummies(data)\n",
        "\n",
        "X_train_prepared = np.copy(data[:train_objs_num])\n",
        "X_test_prepared = np.copy(data[train_objs_num:])"
      ],
      "execution_count": null,
      "outputs": []
    },
    {
      "cell_type": "code",
      "metadata": {
        "id": "LY09Ba3Oc7Y-",
        "outputId": "b1e36dde-fb74-4abb-faaa-886b971b08c9",
        "colab": {
          "base_uri": "https://localhost:8080/",
          "height": 85
        }
      },
      "source": [
        "print(np.shape(X_train_prepared))\n",
        "print(np.shape(X_test_prepared))\n",
        "print(np.shape(y_train))\n",
        "print(np.shape(y_test))"
      ],
      "execution_count": null,
      "outputs": [
        {
          "output_type": "stream",
          "text": [
            "(167726, 142)\n",
            "(41932, 142)\n",
            "(167726, 1)\n",
            "(41932, 1)\n"
          ],
          "name": "stdout"
        }
      ]
    },
    {
      "cell_type": "markdown",
      "metadata": {
        "id": "r-QIQG0ob9_E"
      },
      "source": [
        "We first fit the data to logistic regression to see if we can reasonably predict the race of the driver from the county, stop month, and officer's race"
      ]
    },
    {
      "cell_type": "code",
      "metadata": {
        "id": "5QK9Ge8l4kr8",
        "outputId": "cda6baa3-95c0-4642-ed3b-a9b36db58d7b",
        "colab": {
          "base_uri": "https://localhost:8080/",
          "height": 326
        }
      },
      "source": [
        "from sklearn.model_selection import GridSearchCV\n",
        "from sklearn.linear_model import LogisticRegression\n",
        "from sklearn.metrics import accuracy_score\n",
        "penalty = ['l1', 'l2']\n",
        "C = np.logspace(0, 4, 10)\n",
        "hyperparameters = dict(C=C, penalty=penalty)\n",
        "log_model_2 = LogisticRegression(solver = 'lbfgs')\n",
        "clf = GridSearchCV(log_model_2, param_grid = hyperparameters, cv = 5, verbose=True, n_jobs=-1)\n",
        "best_model = clf.fit(X_train_prepared, y_train_prepared)\n",
        "preds = best_model.predict(X_test_prepared)\n",
        "accuracy_score(y_test_prepared, preds)\n"
      ],
      "execution_count": null,
      "outputs": [
        {
          "output_type": "stream",
          "text": [
            "Fitting 5 folds for each of 20 candidates, totalling 100 fits\n"
          ],
          "name": "stdout"
        },
        {
          "output_type": "stream",
          "text": [
            "[Parallel(n_jobs=-1)]: Using backend LokyBackend with 2 concurrent workers.\n",
            "/usr/local/lib/python3.6/dist-packages/joblib/externals/loky/process_executor.py:706: UserWarning: A worker stopped while some jobs were given to the executor. This can be caused by a too short worker timeout or by a memory leak.\n",
            "  \"timeout or by a memory leak.\", UserWarning\n",
            "[Parallel(n_jobs=-1)]: Done  50 tasks      | elapsed:  1.7min\n",
            "[Parallel(n_jobs=-1)]: Done 100 out of 100 | elapsed:  3.5min finished\n",
            "/usr/local/lib/python3.6/dist-packages/sklearn/utils/validation.py:760: DataConversionWarning: A column-vector y was passed when a 1d array was expected. Please change the shape of y to (n_samples, ), for example using ravel().\n",
            "  y = column_or_1d(y, warn=True)\n",
            "/usr/local/lib/python3.6/dist-packages/sklearn/linear_model/_logistic.py:940: ConvergenceWarning: lbfgs failed to converge (status=1):\n",
            "STOP: TOTAL NO. of ITERATIONS REACHED LIMIT.\n",
            "\n",
            "Increase the number of iterations (max_iter) or scale the data as shown in:\n",
            "    https://scikit-learn.org/stable/modules/preprocessing.html\n",
            "Please also refer to the documentation for alternative solver options:\n",
            "    https://scikit-learn.org/stable/modules/linear_model.html#logistic-regression\n",
            "  extra_warning_msg=_LOGISTIC_SOLVER_CONVERGENCE_MSG)\n"
          ],
          "name": "stderr"
        },
        {
          "output_type": "execute_result",
          "data": {
            "text/plain": [
              "0.6080082037584661"
            ]
          },
          "metadata": {
            "tags": []
          },
          "execution_count": 144
        }
      ]
    },
    {
      "cell_type": "markdown",
      "metadata": {
        "id": "pcaqiJz1cLB0"
      },
      "source": [
        "We achieved a non-random prediction accuracy of 60.8% with the best parameters. We now build a deep network to see if we can improve our predictions at all."
      ]
    },
    {
      "cell_type": "code",
      "metadata": {
        "id": "6nfQUb_o1a9C"
      },
      "source": [
        "import tensorflow as tf\n",
        "from tensorflow import keras"
      ],
      "execution_count": null,
      "outputs": []
    },
    {
      "cell_type": "code",
      "metadata": {
        "id": "l9bk4ef-1ko0"
      },
      "source": [
        "nn_model = keras.models.Sequential([keras.layers.Dense(426,input_dim = 142, activation = 'relu'),\n",
        "                                    keras.layers.Dense(852, activation='relu'),\n",
        "                                    keras.layers.Dense(1, activation='sigmoid')\n",
        "                                    ])"
      ],
      "execution_count": null,
      "outputs": []
    },
    {
      "cell_type": "code",
      "metadata": {
        "id": "dXT9LEYn4Lbm",
        "outputId": "fc3c85f1-9729-4524-8f2c-eff762c33d9d",
        "colab": {
          "base_uri": "https://localhost:8080/",
          "height": 731
        }
      },
      "source": [
        "nn_model.compile(optimizer = 'adam',\n",
        "              loss='binary_crossentropy',\n",
        "              metrics=['accuracy'])\n",
        "\n",
        "nn_model.fit(X_train_prepared, y_train_prepared, validation_split=.2, epochs = 20)\n",
        "\n",
        "nn_model.evaluate(x = X_test_prepared, y = y_test_prepared)"
      ],
      "execution_count": null,
      "outputs": [
        {
          "output_type": "stream",
          "text": [
            "Epoch 1/20\n",
            "4194/4194 [==============================] - 25s 6ms/step - loss: 0.6630 - accuracy: 0.6016 - val_loss: 0.6586 - val_accuracy: 0.6067\n",
            "Epoch 2/20\n",
            "4194/4194 [==============================] - 25s 6ms/step - loss: 0.6599 - accuracy: 0.6065 - val_loss: 0.6608 - val_accuracy: 0.6071\n",
            "Epoch 3/20\n",
            "4194/4194 [==============================] - 25s 6ms/step - loss: 0.6590 - accuracy: 0.6086 - val_loss: 0.6584 - val_accuracy: 0.6086\n",
            "Epoch 4/20\n",
            "4194/4194 [==============================] - 25s 6ms/step - loss: 0.6586 - accuracy: 0.6094 - val_loss: 0.6594 - val_accuracy: 0.6096\n",
            "Epoch 5/20\n",
            "4194/4194 [==============================] - 25s 6ms/step - loss: 0.6581 - accuracy: 0.6090 - val_loss: 0.6589 - val_accuracy: 0.6084\n",
            "Epoch 6/20\n",
            "4194/4194 [==============================] - 25s 6ms/step - loss: 0.6577 - accuracy: 0.6109 - val_loss: 0.6592 - val_accuracy: 0.6092\n",
            "Epoch 7/20\n",
            "4194/4194 [==============================] - 24s 6ms/step - loss: 0.6574 - accuracy: 0.6101 - val_loss: 0.6603 - val_accuracy: 0.6069\n",
            "Epoch 8/20\n",
            "4194/4194 [==============================] - 24s 6ms/step - loss: 0.6572 - accuracy: 0.6114 - val_loss: 0.6596 - val_accuracy: 0.6086\n",
            "Epoch 9/20\n",
            "4194/4194 [==============================] - 24s 6ms/step - loss: 0.6568 - accuracy: 0.6110 - val_loss: 0.6604 - val_accuracy: 0.6052\n",
            "Epoch 10/20\n",
            "4194/4194 [==============================] - 24s 6ms/step - loss: 0.6566 - accuracy: 0.6118 - val_loss: 0.6607 - val_accuracy: 0.6043\n",
            "Epoch 11/20\n",
            "4194/4194 [==============================] - 25s 6ms/step - loss: 0.6563 - accuracy: 0.6126 - val_loss: 0.6607 - val_accuracy: 0.6048\n",
            "Epoch 12/20\n",
            "4194/4194 [==============================] - 24s 6ms/step - loss: 0.6563 - accuracy: 0.6120 - val_loss: 0.6608 - val_accuracy: 0.6044\n",
            "Epoch 13/20\n",
            "4194/4194 [==============================] - 25s 6ms/step - loss: 0.6561 - accuracy: 0.6125 - val_loss: 0.6619 - val_accuracy: 0.6026\n",
            "Epoch 14/20\n",
            "4194/4194 [==============================] - 25s 6ms/step - loss: 0.6560 - accuracy: 0.6124 - val_loss: 0.6615 - val_accuracy: 0.6040\n",
            "Epoch 15/20\n",
            "4194/4194 [==============================] - 25s 6ms/step - loss: 0.6558 - accuracy: 0.6126 - val_loss: 0.6615 - val_accuracy: 0.6055\n",
            "Epoch 16/20\n",
            "4194/4194 [==============================] - 25s 6ms/step - loss: 0.6556 - accuracy: 0.6122 - val_loss: 0.6635 - val_accuracy: 0.6048\n",
            "Epoch 17/20\n",
            "4194/4194 [==============================] - 25s 6ms/step - loss: 0.6555 - accuracy: 0.6134 - val_loss: 0.6624 - val_accuracy: 0.6031\n",
            "Epoch 18/20\n",
            "4194/4194 [==============================] - 25s 6ms/step - loss: 0.6554 - accuracy: 0.6133 - val_loss: 0.6630 - val_accuracy: 0.6017\n",
            "Epoch 19/20\n",
            "4194/4194 [==============================] - 24s 6ms/step - loss: 0.6553 - accuracy: 0.6132 - val_loss: 0.6625 - val_accuracy: 0.6031\n",
            "Epoch 20/20\n",
            "4194/4194 [==============================] - 24s 6ms/step - loss: 0.6551 - accuracy: 0.6135 - val_loss: 0.6629 - val_accuracy: 0.6027\n",
            "1311/1311 [==============================] - 3s 2ms/step - loss: 0.6615 - accuracy: 0.6028\n"
          ],
          "name": "stdout"
        },
        {
          "output_type": "execute_result",
          "data": {
            "text/plain": [
              "[0.6614605188369751, 0.6027616262435913]"
            ]
          },
          "metadata": {
            "tags": []
          },
          "execution_count": 47
        }
      ]
    },
    {
      "cell_type": "markdown",
      "metadata": {
        "id": "PAweq-73cZeI"
      },
      "source": [
        "We achieve 60.2% with this network, less than the logistic regression. We then move add one more dense layer and see if the model improves at all."
      ]
    },
    {
      "cell_type": "code",
      "metadata": {
        "id": "4TWEPmTL8lzg"
      },
      "source": [
        "nn_model_2 = keras.models.Sequential([keras.layers.Dense(426,input_dim = 142, activation = 'relu'),\n",
        "                                    keras.layers.Dense(852, activation='relu'),\n",
        "                                    keras.layers.Dense(1704, activation='relu'),\n",
        "                                    keras.layers.Dense(1, activation='sigmoid')\n",
        "                                    ])"
      ],
      "execution_count": null,
      "outputs": []
    },
    {
      "cell_type": "code",
      "metadata": {
        "id": "C6S4Xe9H8uNS",
        "outputId": "a809fd3b-8bc0-40d3-c682-bd63c369c6f6",
        "colab": {
          "base_uri": "https://localhost:8080/",
          "height": 731
        }
      },
      "source": [
        "nn_model_2.compile(optimizer = 'adam',\n",
        "              loss='binary_crossentropy',\n",
        "              metrics=['accuracy'])\n",
        "\n",
        "nn_model_2.fit(X_train_prepared, y_train_prepared, validation_split=.3, epochs = 20)\n",
        "\n",
        "nn_model_2.evaluate(x = X_test_prepared, y = y_test_prepared)"
      ],
      "execution_count": null,
      "outputs": [
        {
          "output_type": "stream",
          "text": [
            "Epoch 1/20\n",
            "3669/3669 [==============================] - 83s 23ms/step - loss: 0.6639 - accuracy: 0.6020 - val_loss: 0.6610 - val_accuracy: 0.6038\n",
            "Epoch 2/20\n",
            "3669/3669 [==============================] - 84s 23ms/step - loss: 0.6601 - accuracy: 0.6066 - val_loss: 0.6612 - val_accuracy: 0.6048\n",
            "Epoch 3/20\n",
            "3669/3669 [==============================] - 84s 23ms/step - loss: 0.6591 - accuracy: 0.6076 - val_loss: 0.6609 - val_accuracy: 0.6052\n",
            "Epoch 4/20\n",
            "3669/3669 [==============================] - 83s 23ms/step - loss: 0.6584 - accuracy: 0.6089 - val_loss: 0.6597 - val_accuracy: 0.6069\n",
            "Epoch 5/20\n",
            "3669/3669 [==============================] - 85s 23ms/step - loss: 0.6578 - accuracy: 0.6097 - val_loss: 0.6604 - val_accuracy: 0.6067\n",
            "Epoch 6/20\n",
            "3669/3669 [==============================] - 84s 23ms/step - loss: 0.6575 - accuracy: 0.6109 - val_loss: 0.6606 - val_accuracy: 0.6061\n",
            "Epoch 7/20\n",
            "3669/3669 [==============================] - 84s 23ms/step - loss: 0.6568 - accuracy: 0.6107 - val_loss: 0.6623 - val_accuracy: 0.6051\n",
            "Epoch 8/20\n",
            "3669/3669 [==============================] - 85s 23ms/step - loss: 0.6566 - accuracy: 0.6108 - val_loss: 0.6617 - val_accuracy: 0.6043\n",
            "Epoch 9/20\n",
            "3669/3669 [==============================] - 91s 25ms/step - loss: 0.6564 - accuracy: 0.6122 - val_loss: 0.6628 - val_accuracy: 0.6019\n",
            "Epoch 10/20\n",
            "3669/3669 [==============================] - 87s 24ms/step - loss: 0.6560 - accuracy: 0.6126 - val_loss: 0.6621 - val_accuracy: 0.6030\n",
            "Epoch 11/20\n",
            "3669/3669 [==============================] - 87s 24ms/step - loss: 0.6556 - accuracy: 0.6133 - val_loss: 0.6664 - val_accuracy: 0.6004\n",
            "Epoch 12/20\n",
            "3669/3669 [==============================] - 87s 24ms/step - loss: 0.6555 - accuracy: 0.6128 - val_loss: 0.6647 - val_accuracy: 0.6018\n",
            "Epoch 13/20\n",
            "3669/3669 [==============================] - 87s 24ms/step - loss: 0.6554 - accuracy: 0.6122 - val_loss: 0.6634 - val_accuracy: 0.6023\n",
            "Epoch 14/20\n",
            "3669/3669 [==============================] - 86s 23ms/step - loss: 0.6551 - accuracy: 0.6133 - val_loss: 0.6644 - val_accuracy: 0.6025\n",
            "Epoch 15/20\n",
            "3669/3669 [==============================] - 85s 23ms/step - loss: 0.6549 - accuracy: 0.6138 - val_loss: 0.6636 - val_accuracy: 0.6020\n",
            "Epoch 16/20\n",
            "3669/3669 [==============================] - 90s 25ms/step - loss: 0.6547 - accuracy: 0.6134 - val_loss: 0.6660 - val_accuracy: 0.6007\n",
            "Epoch 17/20\n",
            "3669/3669 [==============================] - 84s 23ms/step - loss: 0.6547 - accuracy: 0.6147 - val_loss: 0.6670 - val_accuracy: 0.6004\n",
            "Epoch 18/20\n",
            "3669/3669 [==============================] - 84s 23ms/step - loss: 0.6544 - accuracy: 0.6147 - val_loss: 0.6652 - val_accuracy: 0.6010\n",
            "Epoch 19/20\n",
            "3669/3669 [==============================] - 83s 23ms/step - loss: 0.6542 - accuracy: 0.6142 - val_loss: 0.6688 - val_accuracy: 0.5996\n",
            "Epoch 20/20\n",
            "3669/3669 [==============================] - 83s 23ms/step - loss: 0.6542 - accuracy: 0.6140 - val_loss: 0.6674 - val_accuracy: 0.5990\n",
            "1311/1311 [==============================] - 6s 5ms/step - loss: 0.6636 - accuracy: 0.6003\n"
          ],
          "name": "stdout"
        },
        {
          "output_type": "execute_result",
          "data": {
            "text/plain": [
              "[0.663589596748352, 0.6002814173698425]"
            ]
          },
          "metadata": {
            "tags": []
          },
          "execution_count": 54
        }
      ]
    },
    {
      "cell_type": "markdown",
      "metadata": {
        "id": "hBMJCek6cj-j"
      },
      "source": [
        "The new model has performed slightly worse than the previous one, with accuracy of about 60.0%"
      ]
    },
    {
      "cell_type": "code",
      "metadata": {
        "id": "FKQ3iJfWeNVr"
      },
      "source": [
        "y_no_stop = X_cluster['driver_race'].apply(lambda x: 'Colored' if x!='White' else 'White') \n",
        "X_no_stop = X_cluster.drop('driver_race', axis=1)\n",
        "\n",
        "X_train_ns, X_test_ns, y_train_ns, y_test_ns = train_test_split(X_no_stop, y_no_stop, test_size=0.2, random_state=42, stratify = X_no_stop[\"county_name\"])\n",
        "\n",
        "X_train_ns_prepared = categorical_pipeline.fit_transform(X_train_ns)\n",
        "X_test_ns_prepared = categorical_pipeline.fit_transform(X_test_ns)\n",
        "\n",
        "y_train_ns_prepared, y_test_ns_prepared = (np.where(y_set == 'Colored', 1, 0).reshape(y_set.shape[0]) for y_set in (y_train_ns, y_test_ns))"
      ],
      "execution_count": null,
      "outputs": []
    },
    {
      "cell_type": "code",
      "metadata": {
        "id": "WrGqiE3liyOL",
        "outputId": "7eb7d3ef-1f91-48c1-a828-459d49f08c33",
        "colab": {
          "base_uri": "https://localhost:8080/",
          "height": 34
        }
      },
      "source": [
        "np.asarray(X_train_ns_prepared)"
      ],
      "execution_count": null,
      "outputs": [
        {
          "output_type": "execute_result",
          "data": {
            "text/plain": [
              "numpy.ndarray"
            ]
          },
          "metadata": {
            "tags": []
          },
          "execution_count": 125
        }
      ]
    },
    {
      "cell_type": "markdown",
      "metadata": {
        "id": "hrZZCjwFkpdw"
      },
      "source": [
        "We run a new model on the data with only the top 4 counties + albemarle, and without using the stop date as a feature."
      ]
    },
    {
      "cell_type": "code",
      "metadata": {
        "id": "NT5K-ylGfsZ7",
        "outputId": "f1f81641-990e-40b5-c2d8-10b52d94e34a",
        "colab": {
          "base_uri": "https://localhost:8080/",
          "height": 731
        }
      },
      "source": [
        "nn_model_ns = keras.models.Sequential([keras.layers.Dense(30,input_dim = 10, activation = 'relu'),\n",
        "                                    keras.layers.Dense(90, activation='relu'),\n",
        "                                    keras.layers.Dense(270, activation='relu'),\n",
        "                                    keras.layers.Dense(90, activation='relu'),\n",
        "                                    keras.layers.Dense(1, activation='sigmoid')\n",
        "                                    ])\n",
        "\n",
        "sgd = keras.optimizers.SGD(lr=0.01, decay=1e-6)\n",
        "\n",
        "nn_model_ns.compile(optimizer = 'adam',\n",
        "              loss='binary_crossentropy',\n",
        "              metrics=['accuracy'])\n",
        "\n",
        "nn_model_ns.fit(X_train_ns_prepared, y_train_ns_prepared, epochs = 20)\n",
        "\n",
        "nn_model_ns.evaluate(x = X_test_ns_prepared, y = y_test_ns_prepared)"
      ],
      "execution_count": null,
      "outputs": [
        {
          "output_type": "stream",
          "text": [
            "Epoch 1/20\n",
            "1102/1102 [==============================] - 3s 2ms/step - loss: 0.6295 - accuracy: 0.6724\n",
            "Epoch 2/20\n",
            "1102/1102 [==============================] - 3s 2ms/step - loss: 0.6287 - accuracy: 0.6727\n",
            "Epoch 3/20\n",
            "1102/1102 [==============================] - 3s 2ms/step - loss: 0.6283 - accuracy: 0.6727\n",
            "Epoch 4/20\n",
            "1102/1102 [==============================] - 3s 2ms/step - loss: 0.6278 - accuracy: 0.6727\n",
            "Epoch 5/20\n",
            "1102/1102 [==============================] - 3s 2ms/step - loss: 0.6276 - accuracy: 0.6727\n",
            "Epoch 6/20\n",
            "1102/1102 [==============================] - 3s 2ms/step - loss: 0.6277 - accuracy: 0.6727\n",
            "Epoch 7/20\n",
            "1102/1102 [==============================] - 3s 2ms/step - loss: 0.6277 - accuracy: 0.6727\n",
            "Epoch 8/20\n",
            "1102/1102 [==============================] - 3s 2ms/step - loss: 0.6277 - accuracy: 0.6727\n",
            "Epoch 9/20\n",
            "1102/1102 [==============================] - 3s 2ms/step - loss: 0.6275 - accuracy: 0.6727\n",
            "Epoch 10/20\n",
            "1102/1102 [==============================] - 3s 2ms/step - loss: 0.6276 - accuracy: 0.6727\n",
            "Epoch 11/20\n",
            "1102/1102 [==============================] - 3s 2ms/step - loss: 0.6275 - accuracy: 0.6728\n",
            "Epoch 12/20\n",
            "1102/1102 [==============================] - 3s 2ms/step - loss: 0.6275 - accuracy: 0.6727\n",
            "Epoch 13/20\n",
            "1102/1102 [==============================] - 3s 2ms/step - loss: 0.6276 - accuracy: 0.6727\n",
            "Epoch 14/20\n",
            "1102/1102 [==============================] - 3s 2ms/step - loss: 0.6274 - accuracy: 0.6727\n",
            "Epoch 15/20\n",
            "1102/1102 [==============================] - 3s 2ms/step - loss: 0.6274 - accuracy: 0.6727\n",
            "Epoch 16/20\n",
            "1102/1102 [==============================] - 3s 2ms/step - loss: 0.6272 - accuracy: 0.6727\n",
            "Epoch 17/20\n",
            "1102/1102 [==============================] - 3s 2ms/step - loss: 0.6275 - accuracy: 0.6727\n",
            "Epoch 18/20\n",
            "1102/1102 [==============================] - 3s 2ms/step - loss: 0.6275 - accuracy: 0.6725\n",
            "Epoch 19/20\n",
            "1102/1102 [==============================] - 3s 2ms/step - loss: 0.6275 - accuracy: 0.6727\n",
            "Epoch 20/20\n",
            "1102/1102 [==============================] - 3s 2ms/step - loss: 0.6275 - accuracy: 0.6727\n",
            "276/276 [==============================] - 0s 1ms/step - loss: 0.6243 - accuracy: 0.6781\n"
          ],
          "name": "stdout"
        },
        {
          "output_type": "execute_result",
          "data": {
            "text/plain": [
              "[0.6243352890014648, 0.6780892014503479]"
            ]
          },
          "metadata": {
            "tags": []
          },
          "execution_count": 129
        }
      ]
    },
    {
      "cell_type": "markdown",
      "metadata": {
        "id": "KdctrBoYk8kM"
      },
      "source": [
        "We achieve 67.8% accuracy with the new model."
      ]
    },
    {
      "cell_type": "markdown",
      "metadata": {
        "id": "nmScOoGakmUj"
      },
      "source": [
        ""
      ]
    }
  ]
}